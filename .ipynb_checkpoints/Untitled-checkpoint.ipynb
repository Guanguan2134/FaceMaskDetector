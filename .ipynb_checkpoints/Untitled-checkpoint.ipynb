{
 "cells": [
  {
   "cell_type": "code",
   "execution_count": 11,
   "id": "165c5ed3-a9c3-45bb-8581-25cbc6875df0",
   "metadata": {},
   "outputs": [
    {
     "data": {
      "text/plain": [
       "{'Test': {'face_model_dir': 'face_detector',\n",
       "  'mask_model': 'model/mask_detector_resnet50v2.model',\n",
       "  'confidence': None}}"
      ]
     },
     "execution_count": 11,
     "metadata": {},
     "output_type": "execute_result"
    }
   ],
   "source": [
    "import yaml\n",
    "\n",
    "with open('config.yml', 'r') as f:\n",
    "    data = yaml.safe_load(f)\n",
    "data"
   ]
  },
  {
   "cell_type": "code",
   "execution_count": 9,
   "id": "153d7050-9fc5-4456-a39f-3b4eb7b90ec9",
   "metadata": {},
   "outputs": [
    {
     "data": {
      "text/plain": [
       "'face_detector'"
      ]
     },
     "execution_count": 9,
     "metadata": {},
     "output_type": "execute_result"
    }
   ],
   "source": [
    "data['Test']['face_model_dir']"
   ]
  },
  {
   "cell_type": "code",
   "execution_count": 12,
   "id": "0bb37375-756f-42b8-bab5-428941c451ee",
   "metadata": {},
   "outputs": [
    {
     "name": "stdout",
     "output_type": "stream",
     "text": [
      "Help on function safe_dump in module yaml:\n",
      "\n",
      "safe_dump(data, stream=None, **kwds)\n",
      "    Serialize a Python object into a YAML stream.\n",
      "    Produce only basic YAML tags.\n",
      "    If stream is None, return the produced string instead.\n",
      "\n"
     ]
    }
   ],
   "source": [
    "help(yaml.safe_dump)"
   ]
  },
  {
   "cell_type": "code",
   "execution_count": 10,
   "id": "56e5c569-6c17-49c0-84fa-070394b645ae",
   "metadata": {},
   "outputs": [
    {
     "ename": "AttributeError",
     "evalue": "'dict' object has no attribute 'Test'",
     "output_type": "error",
     "traceback": [
      "\u001b[1;31m---------------------------------------------------------------------------\u001b[0m",
      "\u001b[1;31mAttributeError\u001b[0m                            Traceback (most recent call last)",
      "Input \u001b[1;32mIn [10]\u001b[0m, in \u001b[0;36m<cell line: 1>\u001b[1;34m()\u001b[0m\n\u001b[1;32m----> 1\u001b[0m \u001b[43mdata\u001b[49m\u001b[38;5;241;43m.\u001b[39;49m\u001b[43mTest\u001b[49m\n",
      "\u001b[1;31mAttributeError\u001b[0m: 'dict' object has no attribute 'Test'"
     ]
    }
   ],
   "source": [
    "data.Test"
   ]
  }
 ],
 "metadata": {
  "kernelspec": {
   "display_name": "facemask",
   "language": "python",
   "name": "facemask"
  },
  "language_info": {
   "codemirror_mode": {
    "name": "ipython",
    "version": 3
   },
   "file_extension": ".py",
   "mimetype": "text/x-python",
   "name": "python",
   "nbconvert_exporter": "python",
   "pygments_lexer": "ipython3",
   "version": "3.8.13"
  }
 },
 "nbformat": 4,
 "nbformat_minor": 5
}
