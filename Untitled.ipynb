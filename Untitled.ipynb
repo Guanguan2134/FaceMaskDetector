{
 "cells": [
  {
   "cell_type": "code",
   "execution_count": 11,
   "id": "165c5ed3-a9c3-45bb-8581-25cbc6875df0",
   "metadata": {},
   "outputs": [
    {
     "data": {
      "text/plain": [
       "{'Test': {'face_model_dir': 'face_detector',\n",
       "  'mask_model': 'model/mask_detector_resnet50v2.model',\n",
       "  'confidence': None}}"
      ]
     },
     "execution_count": 11,
     "metadata": {},
     "output_type": "execute_result"
    }
   ],
   "source": [
    "import yaml\n",
    "\n",
    "with open('config.yml', 'r') as f:\n",
    "    data = yaml.safe_load(f)\n",
    "data"
   ]
  },
  {
   "cell_type": "code",
   "execution_count": 9,
   "id": "153d7050-9fc5-4456-a39f-3b4eb7b90ec9",
   "metadata": {},
   "outputs": [
    {
     "data": {
      "text/plain": [
       "'face_detector'"
      ]
     },
     "execution_count": 9,
     "metadata": {},
     "output_type": "execute_result"
    }
   ],
   "source": [
    "data['Test']['face_model_dir']"
   ]
  },
  {
   "cell_type": "code",
   "execution_count": 12,
   "id": "0bb37375-756f-42b8-bab5-428941c451ee",
   "metadata": {},
   "outputs": [
    {
     "name": "stdout",
     "output_type": "stream",
     "text": [
      "Help on function safe_dump in module yaml:\n",
      "\n",
      "safe_dump(data, stream=None, **kwds)\n",
      "    Serialize a Python object into a YAML stream.\n",
      "    Produce only basic YAML tags.\n",
      "    If stream is None, return the produced string instead.\n",
      "\n"
     ]
    }
   ],
   "source": [
    "help(yaml.safe_dump)"
   ]
  },
  {
   "cell_type": "code",
   "execution_count": 17,
   "id": "56e5c569-6c17-49c0-84fa-070394b645ae",
   "metadata": {},
   "outputs": [
    {
     "name": "stdout",
     "output_type": "stream",
     "text": [
      "0\n",
      "1\n",
      "2\n",
      "3\n",
      "4\n",
      "5\n",
      "6\n",
      "7\n",
      "8\n",
      "9\n",
      "10\n",
      "11\n",
      "12\n",
      "13\n",
      "14\n",
      "15\n",
      "16\n",
      "17\n",
      "18\n",
      "19\n",
      "20\n",
      "21\n",
      "22\n",
      "23\n",
      "24\n",
      "25\n",
      "26\n",
      "27\n",
      "28\n",
      "29\n",
      "30\n",
      "31\n",
      "32\n",
      "33\n",
      "34\n",
      "35\n",
      "36\n",
      "37\n",
      "38\n",
      "39\n",
      "40\n",
      "41\n",
      "42\n",
      "43\n",
      "44\n",
      "45\n",
      "46\n",
      "47\n",
      "48\n",
      "49\n"
     ]
    }
   ],
   "source": [
    "for i in range(int(50.0)):\n",
    "    print(i)"
   ]
  }
 ],
 "metadata": {
  "kernelspec": {
   "display_name": "facemask",
   "language": "python",
   "name": "facemask"
  },
  "language_info": {
   "codemirror_mode": {
    "name": "ipython",
    "version": 3
   },
   "file_extension": ".py",
   "mimetype": "text/x-python",
   "name": "python",
   "nbconvert_exporter": "python",
   "pygments_lexer": "ipython3",
   "version": "3.8.13"
  }
 },
 "nbformat": 4,
 "nbformat_minor": 5
}
